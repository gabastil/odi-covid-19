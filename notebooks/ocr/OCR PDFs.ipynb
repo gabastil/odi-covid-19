{
 "cells": [
  {
   "cell_type": "markdown",
   "metadata": {},
   "source": [
    "# Extrair Dados dos Archivos PDF\n",
    "---\n",
    "Glenn Abastillas\n",
    "\n",
    "Este caderno mostra como extrair tabelas dos archivos PDF com o paquete `tabula`."
   ]
  },
  {
   "cell_type": "code",
   "execution_count": 20,
   "metadata": {},
   "outputs": [],
   "source": [
    "from pdf2image import convert_from_path\n",
    "from pytesseract import image_to_string\n",
    "from glob import glob\n",
    "from PIL import Image\n",
    "from tqdm import tqdm\n",
    "import tabula\n",
    "import warnings\n",
    "\n",
    "warnings.filterwarnings('ignore')"
   ]
  },
  {
   "cell_type": "markdown",
   "metadata": {},
   "source": [
    "### Carrega Dados\n",
    "\n",
    "Defina a locação de arquivo dos dados e compila uma lista dos nomes dos archivos."
   ]
  },
  {
   "cell_type": "code",
   "execution_count": 21,
   "metadata": {},
   "outputs": [],
   "source": [
    "arquivo = '../../data/pdf/'\n",
    "\n",
    "archivos = glob(arquivo + \"*.pdf\")"
   ]
  },
  {
   "cell_type": "markdown",
   "metadata": {},
   "source": [
    "Obtenha o número de páginas que um relatorio tem"
   ]
  },
  {
   "cell_type": "code",
   "execution_count": 23,
   "metadata": {},
   "outputs": [],
   "source": [
    "imagem = convert_from_path(archivos[0])"
   ]
  },
  {
   "cell_type": "code",
   "execution_count": null,
   "metadata": {},
   "outputs": [],
   "source": [
    "for archivo in archivos:\n",
    "    imagem = convert_from_path"
   ]
  },
  {
   "cell_type": "markdown",
   "metadata": {},
   "source": [
    "Defina a função que vai ler o archivo."
   ]
  },
  {
   "cell_type": "code",
   "execution_count": 34,
   "metadata": {},
   "outputs": [],
   "source": [
    "def read(archivo):\n",
    "    ''' \n",
    "    Carga e ler um archivo para extrair os conteúdos dele\n",
    "    \n",
    "    Parámetros\n",
    "    ----------\n",
    "        archivo (str) : locação do archivo PDF que contem dados\n",
    "    '''\n",
    "    imagens = convert_from_path(archivo)\n",
    "    return [image_to_string(imagem) for imagem in imagens if imagem]"
   ]
  },
  {
   "cell_type": "markdown",
   "metadata": {},
   "source": [
    "### Extrair Textos Brutos e Tabelas\n",
    "\n",
    "Passe pelos archivos listados e pôr os resultados nas listas apropriadas.\n",
    "\n",
    "#### Tabelas e os Documentos dos que Vêm"
   ]
  },
  {
   "cell_type": "code",
   "execution_count": 22,
   "metadata": {},
   "outputs": [
    {
     "name": "stderr",
     "output_type": "stream",
     "text": [
      "Got stderr: Apr 17, 2020 3:36:17 PM org.apache.pdfbox.pdmodel.font.PDCIDFontType2 <init>\n",
      "INFO: OpenType Layout tables used in font Times New Roman,Bold are not implemented in PDFBox and will be ignored\n",
      "Apr 17, 2020 3:36:17 PM org.apache.pdfbox.pdmodel.font.PDCIDFontType2 <init>\n",
      "INFO: OpenType Layout tables used in font Arial are not implemented in PDFBox and will be ignored\n",
      "Apr 17, 2020 3:36:17 PM org.apache.pdfbox.rendering.PDFRenderer suggestKCMS\n",
      "INFO: Your current java version is: 1.8.0_77\n",
      "Apr 17, 2020 3:36:17 PM org.apache.pdfbox.rendering.PDFRenderer suggestKCMS\n",
      "INFO: To get higher rendering speed on old java 1.8 or 9 versions,\n",
      "Apr 17, 2020 3:36:17 PM org.apache.pdfbox.rendering.PDFRenderer suggestKCMS\n",
      "INFO:   update to the latest 1.8 or 9 version (>= 1.8.0_191 or >= 9.0.4),\n",
      "Apr 17, 2020 3:36:17 PM org.apache.pdfbox.rendering.PDFRenderer suggestKCMS\n",
      "INFO:   or\n",
      "Apr 17, 2020 3:36:17 PM org.apache.pdfbox.rendering.PDFRenderer suggestKCMS\n",
      "INFO:   use the option -Dsun.java2d.cmm=sun.java2d.cmm.kcms.KcmsServiceProvider\n",
      "Apr 17, 2020 3:36:17 PM org.apache.pdfbox.rendering.PDFRenderer suggestKCMS\n",
      "INFO:   or call System.setProperty(\"sun.java2d.cmm\", \"sun.java2d.cmm.kcms.KcmsServiceProvider\")\n",
      "Apr 17, 2020 3:36:18 PM org.apache.pdfbox.pdmodel.font.PDCIDFontType2 <init>\n",
      "INFO: OpenType Layout tables used in font Times New Roman,Bold are not implemented in PDFBox and will be ignored\n",
      "Apr 17, 2020 3:36:18 PM org.apache.pdfbox.pdmodel.font.PDCIDFontType2 <init>\n",
      "INFO: OpenType Layout tables used in font Arial are not implemented in PDFBox and will be ignored\n",
      "Apr 17, 2020 3:36:19 PM org.apache.pdfbox.pdmodel.font.PDCIDFontType2 <init>\n",
      "INFO: OpenType Layout tables used in font Times New Roman,Bold are not implemented in PDFBox and will be ignored\n",
      "Apr 17, 2020 3:36:19 PM org.apache.pdfbox.pdmodel.font.PDCIDFontType2 <init>\n",
      "INFO: OpenType Layout tables used in font Arial are not implemented in PDFBox and will be ignored\n",
      "\n",
      "Got stderr: Apr 17, 2020 3:36:21 PM org.apache.pdfbox.pdmodel.font.PDCIDFontType2 <init>\n",
      "INFO: OpenType Layout tables used in font ABCDEE+Calibri,Bold are not implemented in PDFBox and will be ignored\n",
      "Apr 17, 2020 3:36:22 PM org.apache.pdfbox.rendering.PDFRenderer suggestKCMS\n",
      "INFO: Your current java version is: 1.8.0_77\n",
      "Apr 17, 2020 3:36:22 PM org.apache.pdfbox.rendering.PDFRenderer suggestKCMS\n",
      "INFO: To get higher rendering speed on old java 1.8 or 9 versions,\n",
      "Apr 17, 2020 3:36:22 PM org.apache.pdfbox.rendering.PDFRenderer suggestKCMS\n",
      "INFO:   update to the latest 1.8 or 9 version (>= 1.8.0_191 or >= 9.0.4),\n",
      "Apr 17, 2020 3:36:22 PM org.apache.pdfbox.rendering.PDFRenderer suggestKCMS\n",
      "INFO:   or\n",
      "Apr 17, 2020 3:36:22 PM org.apache.pdfbox.rendering.PDFRenderer suggestKCMS\n",
      "INFO:   use the option -Dsun.java2d.cmm=sun.java2d.cmm.kcms.KcmsServiceProvider\n",
      "Apr 17, 2020 3:36:22 PM org.apache.pdfbox.rendering.PDFRenderer suggestKCMS\n",
      "INFO:   or call System.setProperty(\"sun.java2d.cmm\", \"sun.java2d.cmm.kcms.KcmsServiceProvider\")\n",
      "Apr 17, 2020 3:36:22 PM org.apache.pdfbox.pdmodel.font.PDCIDFontType2 <init>\n",
      "INFO: OpenType Layout tables used in font ABCDEE+Calibri,Bold are not implemented in PDFBox and will be ignored\n",
      "Apr 17, 2020 3:36:23 PM org.apache.pdfbox.pdmodel.font.PDCIDFontType2 <init>\n",
      "INFO: OpenType Layout tables used in font ABCDEE+Calibri,Bold are not implemented in PDFBox and will be ignored\n",
      "\n",
      "Got stderr: Apr 17, 2020 3:36:25 PM org.apache.pdfbox.pdmodel.font.PDCIDFontType2 <init>\n",
      "INFO: OpenType Layout tables used in font TimesNewRomanPS-BoldMT are not implemented in PDFBox and will be ignored\n",
      "Apr 17, 2020 3:36:25 PM org.apache.pdfbox.pdmodel.font.PDCIDFontType2 <init>\n",
      "INFO: OpenType Layout tables used in font TimesNewRomanPSMT are not implemented in PDFBox and will be ignored\n",
      "Apr 17, 2020 3:36:25 PM org.apache.pdfbox.rendering.PDFRenderer suggestKCMS\n",
      "INFO: Your current java version is: 1.8.0_77\n",
      "Apr 17, 2020 3:36:25 PM org.apache.pdfbox.rendering.PDFRenderer suggestKCMS\n",
      "INFO: To get higher rendering speed on old java 1.8 or 9 versions,\n",
      "Apr 17, 2020 3:36:25 PM org.apache.pdfbox.rendering.PDFRenderer suggestKCMS\n",
      "INFO:   update to the latest 1.8 or 9 version (>= 1.8.0_191 or >= 9.0.4),\n",
      "Apr 17, 2020 3:36:25 PM org.apache.pdfbox.rendering.PDFRenderer suggestKCMS\n",
      "INFO:   or\n",
      "Apr 17, 2020 3:36:25 PM org.apache.pdfbox.rendering.PDFRenderer suggestKCMS\n",
      "INFO:   use the option -Dsun.java2d.cmm=sun.java2d.cmm.kcms.KcmsServiceProvider\n",
      "Apr 17, 2020 3:36:25 PM org.apache.pdfbox.rendering.PDFRenderer suggestKCMS\n",
      "INFO:   or call System.setProperty(\"sun.java2d.cmm\", \"sun.java2d.cmm.kcms.KcmsServiceProvider\")\n",
      "Apr 17, 2020 3:36:26 PM org.apache.pdfbox.pdmodel.font.PDCIDFontType2 <init>\n",
      "INFO: OpenType Layout tables used in font TimesNewRomanPS-BoldMT are not implemented in PDFBox and will be ignored\n",
      "Apr 17, 2020 3:36:26 PM org.apache.pdfbox.pdmodel.font.PDCIDFontType2 <init>\n",
      "INFO: OpenType Layout tables used in font TimesNewRomanPSMT are not implemented in PDFBox and will be ignored\n",
      "Apr 17, 2020 3:36:26 PM org.apache.pdfbox.pdmodel.font.PDCIDFontType2 <init>\n",
      "INFO: OpenType Layout tables used in font TimesNewRomanPS-BoldMT are not implemented in PDFBox and will be ignored\n",
      "Apr 17, 2020 3:36:26 PM org.apache.pdfbox.pdmodel.font.PDCIDFontType2 <init>\n",
      "INFO: OpenType Layout tables used in font TimesNewRomanPSMT are not implemented in PDFBox and will be ignored\n",
      "\n",
      "Got stderr: Apr 17, 2020 3:36:29 PM org.apache.pdfbox.rendering.PDFRenderer suggestKCMS\n",
      "INFO: Your current java version is: 1.8.0_77\n",
      "Apr 17, 2020 3:36:29 PM org.apache.pdfbox.rendering.PDFRenderer suggestKCMS\n",
      "INFO: To get higher rendering speed on old java 1.8 or 9 versions,\n",
      "Apr 17, 2020 3:36:29 PM org.apache.pdfbox.rendering.PDFRenderer suggestKCMS\n",
      "INFO:   update to the latest 1.8 or 9 version (>= 1.8.0_191 or >= 9.0.4),\n",
      "Apr 17, 2020 3:36:29 PM org.apache.pdfbox.rendering.PDFRenderer suggestKCMS\n",
      "INFO:   or\n",
      "Apr 17, 2020 3:36:29 PM org.apache.pdfbox.rendering.PDFRenderer suggestKCMS\n",
      "INFO:   use the option -Dsun.java2d.cmm=sun.java2d.cmm.kcms.KcmsServiceProvider\n",
      "Apr 17, 2020 3:36:29 PM org.apache.pdfbox.rendering.PDFRenderer suggestKCMS\n",
      "INFO:   or call System.setProperty(\"sun.java2d.cmm\", \"sun.java2d.cmm.kcms.KcmsServiceProvider\")\n",
      "\n",
      "Got stderr: Apr 17, 2020 3:36:33 PM org.apache.pdfbox.pdmodel.font.PDCIDFontType2 <init>\n",
      "INFO: OpenType Layout tables used in font Times New Roman are not implemented in PDFBox and will be ignored\n",
      "Apr 17, 2020 3:36:33 PM org.apache.pdfbox.rendering.PDFRenderer suggestKCMS\n",
      "INFO: Your current java version is: 1.8.0_77\n",
      "Apr 17, 2020 3:36:33 PM org.apache.pdfbox.rendering.PDFRenderer suggestKCMS\n",
      "INFO: To get higher rendering speed on old java 1.8 or 9 versions,\n",
      "Apr 17, 2020 3:36:33 PM org.apache.pdfbox.rendering.PDFRenderer suggestKCMS\n",
      "INFO:   update to the latest 1.8 or 9 version (>= 1.8.0_191 or >= 9.0.4),\n",
      "Apr 17, 2020 3:36:33 PM org.apache.pdfbox.rendering.PDFRenderer suggestKCMS\n",
      "INFO:   or\n",
      "Apr 17, 2020 3:36:33 PM org.apache.pdfbox.rendering.PDFRenderer suggestKCMS\n",
      "INFO:   use the option -Dsun.java2d.cmm=sun.java2d.cmm.kcms.KcmsServiceProvider\n",
      "Apr 17, 2020 3:36:33 PM org.apache.pdfbox.rendering.PDFRenderer suggestKCMS\n",
      "INFO:   or call System.setProperty(\"sun.java2d.cmm\", \"sun.java2d.cmm.kcms.KcmsServiceProvider\")\n",
      "Apr 17, 2020 3:36:33 PM org.apache.pdfbox.pdmodel.font.PDCIDFontType2 <init>\n",
      "INFO: OpenType Layout tables used in font Times New Roman are not implemented in PDFBox and will be ignored\n",
      "Apr 17, 2020 3:36:34 PM org.apache.pdfbox.pdmodel.font.PDCIDFontType2 <init>\n",
      "INFO: OpenType Layout tables used in font Times New Roman are not implemented in PDFBox and will be ignored\n",
      "\n",
      "Got stderr: Apr 17, 2020 3:36:37 PM org.apache.pdfbox.pdmodel.font.PDCIDFontType2 <init>\n",
      "INFO: OpenType Layout tables used in font Times New Roman,Bold are not implemented in PDFBox and will be ignored\n",
      "Apr 17, 2020 3:36:37 PM org.apache.pdfbox.pdmodel.font.PDCIDFontType2 <init>\n",
      "INFO: OpenType Layout tables used in font Times New Roman are not implemented in PDFBox and will be ignored\n",
      "Apr 17, 2020 3:36:37 PM org.apache.pdfbox.pdmodel.font.PDCIDFontType2 <init>\n",
      "INFO: OpenType Layout tables used in font ABCDEE+Calibri are not implemented in PDFBox and will be ignored\n",
      "Apr 17, 2020 3:36:37 PM org.apache.pdfbox.rendering.PDFRenderer suggestKCMS\n",
      "INFO: Your current java version is: 1.8.0_77\n",
      "Apr 17, 2020 3:36:37 PM org.apache.pdfbox.rendering.PDFRenderer suggestKCMS\n",
      "INFO: To get higher rendering speed on old java 1.8 or 9 versions,\n",
      "Apr 17, 2020 3:36:37 PM org.apache.pdfbox.rendering.PDFRenderer suggestKCMS\n",
      "INFO:   update to the latest 1.8 or 9 version (>= 1.8.0_191 or >= 9.0.4),\n",
      "Apr 17, 2020 3:36:37 PM org.apache.pdfbox.rendering.PDFRenderer suggestKCMS\n",
      "INFO:   or\n",
      "Apr 17, 2020 3:36:37 PM org.apache.pdfbox.rendering.PDFRenderer suggestKCMS\n",
      "INFO:   use the option -Dsun.java2d.cmm=sun.java2d.cmm.kcms.KcmsServiceProvider\n",
      "Apr 17, 2020 3:36:37 PM org.apache.pdfbox.rendering.PDFRenderer suggestKCMS\n",
      "INFO:   or call System.setProperty(\"sun.java2d.cmm\", \"sun.java2d.cmm.kcms.KcmsServiceProvider\")\n",
      "Apr 17, 2020 3:36:38 PM org.apache.pdfbox.pdmodel.font.PDCIDFontType2 <init>\n",
      "INFO: OpenType Layout tables used in font Times New Roman,Bold are not implemented in PDFBox and will be ignored\n",
      "Apr 17, 2020 3:36:38 PM org.apache.pdfbox.pdmodel.font.PDCIDFontType2 <init>\n",
      "INFO: OpenType Layout tables used in font Times New Roman are not implemented in PDFBox and will be ignored\n",
      "Apr 17, 2020 3:36:38 PM org.apache.pdfbox.pdmodel.font.PDCIDFontType2 <init>\n",
      "INFO: OpenType Layout tables used in font ABCDEE+Calibri are not implemented in PDFBox and will be ignored\n",
      "Apr 17, 2020 3:36:38 PM org.apache.pdfbox.pdmodel.font.PDCIDFontType2 <init>\n",
      "INFO: OpenType Layout tables used in font Times New Roman,Bold are not implemented in PDFBox and will be ignored\n",
      "Apr 17, 2020 3:36:38 PM org.apache.pdfbox.pdmodel.font.PDCIDFontType2 <init>\n",
      "INFO: OpenType Layout tables used in font Times New Roman are not implemented in PDFBox and will be ignored\n",
      "Apr 17, 2020 3:36:38 PM org.apache.pdfbox.pdmodel.font.PDCIDFontType2 <init>\n",
      "INFO: OpenType Layout tables used in font ABCDEE+Calibri are not implemented in PDFBox and will be ignored\n",
      "\n",
      "Got stderr: Apr 17, 2020 3:36:41 PM org.apache.pdfbox.pdmodel.font.PDCIDFontType2 <init>\n",
      "INFO: OpenType Layout tables used in font Times New Roman,Bold are not implemented in PDFBox and will be ignored\n",
      "Apr 17, 2020 3:36:41 PM org.apache.pdfbox.pdmodel.font.PDCIDFontType2 <init>\n",
      "INFO: OpenType Layout tables used in font Times New Roman are not implemented in PDFBox and will be ignored\n",
      "Apr 17, 2020 3:36:41 PM org.apache.pdfbox.rendering.PDFRenderer suggestKCMS\n",
      "INFO: Your current java version is: 1.8.0_77\n",
      "Apr 17, 2020 3:36:41 PM org.apache.pdfbox.rendering.PDFRenderer suggestKCMS\n",
      "INFO: To get higher rendering speed on old java 1.8 or 9 versions,\n",
      "Apr 17, 2020 3:36:41 PM org.apache.pdfbox.rendering.PDFRenderer suggestKCMS\n",
      "INFO:   update to the latest 1.8 or 9 version (>= 1.8.0_191 or >= 9.0.4),\n",
      "Apr 17, 2020 3:36:41 PM org.apache.pdfbox.rendering.PDFRenderer suggestKCMS\n",
      "INFO:   or\n",
      "Apr 17, 2020 3:36:41 PM org.apache.pdfbox.rendering.PDFRenderer suggestKCMS\n",
      "INFO:   use the option -Dsun.java2d.cmm=sun.java2d.cmm.kcms.KcmsServiceProvider\n",
      "Apr 17, 2020 3:36:41 PM org.apache.pdfbox.rendering.PDFRenderer suggestKCMS\n",
      "INFO:   or call System.setProperty(\"sun.java2d.cmm\", \"sun.java2d.cmm.kcms.KcmsServiceProvider\")\n",
      "Apr 17, 2020 3:36:42 PM org.apache.pdfbox.pdmodel.font.PDCIDFontType2 <init>\n",
      "INFO: OpenType Layout tables used in font Times New Roman,Bold are not implemented in PDFBox and will be ignored\n",
      "Apr 17, 2020 3:36:42 PM org.apache.pdfbox.pdmodel.font.PDCIDFontType2 <init>\n",
      "INFO: OpenType Layout tables used in font Times New Roman are not implemented in PDFBox and will be ignored\n",
      "Apr 17, 2020 3:36:42 PM org.apache.pdfbox.pdmodel.font.PDCIDFontType2 <init>\n",
      "INFO: OpenType Layout tables used in font Times New Roman,Bold are not implemented in PDFBox and will be ignored\n",
      "Apr 17, 2020 3:36:42 PM org.apache.pdfbox.pdmodel.font.PDCIDFontType2 <init>\n",
      "INFO: OpenType Layout tables used in font Times New Roman are not implemented in PDFBox and will be ignored\n",
      "\n",
      "Got stderr: Apr 17, 2020 3:36:45 PM org.apache.pdfbox.pdmodel.font.PDCIDFontType2 <init>\n",
      "INFO: OpenType Layout tables used in font Times New Roman,Bold are not implemented in PDFBox and will be ignored\n",
      "Apr 17, 2020 3:36:45 PM org.apache.pdfbox.pdmodel.font.PDCIDFontType2 <init>\n",
      "INFO: OpenType Layout tables used in font Times New Roman are not implemented in PDFBox and will be ignored\n",
      "Apr 17, 2020 3:36:45 PM org.apache.pdfbox.rendering.PDFRenderer suggestKCMS\n",
      "INFO: Your current java version is: 1.8.0_77\n",
      "Apr 17, 2020 3:36:45 PM org.apache.pdfbox.rendering.PDFRenderer suggestKCMS\n",
      "INFO: To get higher rendering speed on old java 1.8 or 9 versions,\n",
      "Apr 17, 2020 3:36:45 PM org.apache.pdfbox.rendering.PDFRenderer suggestKCMS\n",
      "INFO:   update to the latest 1.8 or 9 version (>= 1.8.0_191 or >= 9.0.4),\n",
      "Apr 17, 2020 3:36:45 PM org.apache.pdfbox.rendering.PDFRenderer suggestKCMS\n",
      "INFO:   or\n",
      "Apr 17, 2020 3:36:45 PM org.apache.pdfbox.rendering.PDFRenderer suggestKCMS\n",
      "INFO:   use the option -Dsun.java2d.cmm=sun.java2d.cmm.kcms.KcmsServiceProvider\n",
      "Apr 17, 2020 3:36:45 PM org.apache.pdfbox.rendering.PDFRenderer suggestKCMS\n",
      "INFO:   or call System.setProperty(\"sun.java2d.cmm\", \"sun.java2d.cmm.kcms.KcmsServiceProvider\")\n",
      "Apr 17, 2020 3:36:46 PM org.apache.pdfbox.pdmodel.font.PDCIDFontType2 <init>\n",
      "INFO: OpenType Layout tables used in font Times New Roman,Bold are not implemented in PDFBox and will be ignored\n",
      "Apr 17, 2020 3:36:46 PM org.apache.pdfbox.pdmodel.font.PDCIDFontType2 <init>\n",
      "INFO: OpenType Layout tables used in font Times New Roman are not implemented in PDFBox and will be ignored\n",
      "Apr 17, 2020 3:36:47 PM org.apache.pdfbox.pdmodel.font.PDCIDFontType2 <init>\n",
      "INFO: OpenType Layout tables used in font Times New Roman,Bold are not implemented in PDFBox and will be ignored\n",
      "Apr 17, 2020 3:36:47 PM org.apache.pdfbox.pdmodel.font.PDCIDFontType2 <init>\n",
      "INFO: OpenType Layout tables used in font Times New Roman are not implemented in PDFBox and will be ignored\n",
      "\n",
      "Got stderr: Apr 17, 2020 3:36:49 PM org.apache.pdfbox.pdmodel.font.PDCIDFontType2 <init>\n",
      "INFO: OpenType Layout tables used in font ABCDEE+Calibri,Bold are not implemented in PDFBox and will be ignored\n",
      "Apr 17, 2020 3:36:49 PM org.apache.pdfbox.rendering.PDFRenderer suggestKCMS\n",
      "INFO: Your current java version is: 1.8.0_77\n",
      "Apr 17, 2020 3:36:49 PM org.apache.pdfbox.rendering.PDFRenderer suggestKCMS\n",
      "INFO: To get higher rendering speed on old java 1.8 or 9 versions,\n",
      "Apr 17, 2020 3:36:49 PM org.apache.pdfbox.rendering.PDFRenderer suggestKCMS\n",
      "INFO:   update to the latest 1.8 or 9 version (>= 1.8.0_191 or >= 9.0.4),\n",
      "Apr 17, 2020 3:36:49 PM org.apache.pdfbox.rendering.PDFRenderer suggestKCMS\n",
      "INFO:   or\n",
      "Apr 17, 2020 3:36:49 PM org.apache.pdfbox.rendering.PDFRenderer suggestKCMS\n",
      "INFO:   use the option -Dsun.java2d.cmm=sun.java2d.cmm.kcms.KcmsServiceProvider\n",
      "Apr 17, 2020 3:36:49 PM org.apache.pdfbox.rendering.PDFRenderer suggestKCMS\n",
      "INFO:   or call System.setProperty(\"sun.java2d.cmm\", \"sun.java2d.cmm.kcms.KcmsServiceProvider\")\n",
      "Apr 17, 2020 3:36:50 PM org.apache.pdfbox.pdmodel.font.PDCIDFontType2 <init>\n",
      "INFO: OpenType Layout tables used in font ABCDEE+Calibri,Bold are not implemented in PDFBox and will be ignored\n",
      "Apr 17, 2020 3:36:51 PM org.apache.pdfbox.pdmodel.font.PDCIDFontType2 <init>\n",
      "INFO: OpenType Layout tables used in font ABCDEE+Calibri,Bold are not implemented in PDFBox and will be ignored\n",
      "\n",
      "Got stderr: Apr 17, 2020 3:36:53 PM org.apache.pdfbox.pdmodel.font.PDCIDFontType2 <init>\n",
      "INFO: OpenType Layout tables used in font ABCDEE+Calibri,Bold are not implemented in PDFBox and will be ignored\n",
      "Apr 17, 2020 3:36:53 PM org.apache.pdfbox.rendering.PDFRenderer suggestKCMS\n",
      "INFO: Your current java version is: 1.8.0_77\n",
      "Apr 17, 2020 3:36:53 PM org.apache.pdfbox.rendering.PDFRenderer suggestKCMS\n",
      "INFO: To get higher rendering speed on old java 1.8 or 9 versions,\n",
      "Apr 17, 2020 3:36:53 PM org.apache.pdfbox.rendering.PDFRenderer suggestKCMS\n",
      "INFO:   update to the latest 1.8 or 9 version (>= 1.8.0_191 or >= 9.0.4),\n",
      "Apr 17, 2020 3:36:53 PM org.apache.pdfbox.rendering.PDFRenderer suggestKCMS\n",
      "INFO:   or\n",
      "Apr 17, 2020 3:36:53 PM org.apache.pdfbox.rendering.PDFRenderer suggestKCMS\n",
      "INFO:   use the option -Dsun.java2d.cmm=sun.java2d.cmm.kcms.KcmsServiceProvider\n",
      "Apr 17, 2020 3:36:53 PM org.apache.pdfbox.rendering.PDFRenderer suggestKCMS\n",
      "INFO:   or call System.setProperty(\"sun.java2d.cmm\", \"sun.java2d.cmm.kcms.KcmsServiceProvider\")\n",
      "Apr 17, 2020 3:36:53 PM org.apache.pdfbox.pdmodel.font.PDCIDFontType2 <init>\n",
      "INFO: OpenType Layout tables used in font ABCDEE+Calibri,Bold are not implemented in PDFBox and will be ignored\n",
      "Apr 17, 2020 3:36:54 PM org.apache.pdfbox.pdmodel.font.PDCIDFontType2 <init>\n",
      "INFO: OpenType Layout tables used in font ABCDEE+Calibri,Bold are not implemented in PDFBox and will be ignored\n",
      "\n",
      "Got stderr: Apr 17, 2020 3:36:57 PM org.apache.pdfbox.rendering.PDFRenderer suggestKCMS\n",
      "INFO: Your current java version is: 1.8.0_77\n",
      "Apr 17, 2020 3:36:57 PM org.apache.pdfbox.rendering.PDFRenderer suggestKCMS\n",
      "INFO: To get higher rendering speed on old java 1.8 or 9 versions,\n",
      "Apr 17, 2020 3:36:57 PM org.apache.pdfbox.rendering.PDFRenderer suggestKCMS\n",
      "INFO:   update to the latest 1.8 or 9 version (>= 1.8.0_191 or >= 9.0.4),\n",
      "Apr 17, 2020 3:36:57 PM org.apache.pdfbox.rendering.PDFRenderer suggestKCMS\n",
      "INFO:   or\n",
      "Apr 17, 2020 3:36:57 PM org.apache.pdfbox.rendering.PDFRenderer suggestKCMS\n",
      "INFO:   use the option -Dsun.java2d.cmm=sun.java2d.cmm.kcms.KcmsServiceProvider\n",
      "Apr 17, 2020 3:36:57 PM org.apache.pdfbox.rendering.PDFRenderer suggestKCMS\n",
      "INFO:   or call System.setProperty(\"sun.java2d.cmm\", \"sun.java2d.cmm.kcms.KcmsServiceProvider\")\n",
      "\n",
      "Got stderr: Apr 17, 2020 3:37:01 PM org.apache.pdfbox.pdmodel.font.PDCIDFontType2 <init>\n",
      "INFO: OpenType Layout tables used in font ABCDEE+___WRD_EMBED_SUB_277 are not implemented in PDFBox and will be ignored\n",
      "Apr 17, 2020 3:37:01 PM org.apache.pdfbox.pdmodel.font.PDCIDFontType2 <init>\n",
      "INFO: OpenType Layout tables used in font Times New Roman,Bold are not implemented in PDFBox and will be ignored\n",
      "Apr 17, 2020 3:37:01 PM org.apache.pdfbox.pdmodel.font.PDCIDFontType2 <init>\n",
      "INFO: OpenType Layout tables used in font Times New Roman are not implemented in PDFBox and will be ignored\n",
      "Apr 17, 2020 3:37:01 PM org.apache.pdfbox.rendering.PDFRenderer suggestKCMS\n",
      "INFO: Your current java version is: 1.8.0_77\n",
      "Apr 17, 2020 3:37:01 PM org.apache.pdfbox.rendering.PDFRenderer suggestKCMS\n",
      "INFO: To get higher rendering speed on old java 1.8 or 9 versions,\n",
      "Apr 17, 2020 3:37:01 PM org.apache.pdfbox.rendering.PDFRenderer suggestKCMS\n",
      "INFO:   update to the latest 1.8 or 9 version (>= 1.8.0_191 or >= 9.0.4),\n",
      "Apr 17, 2020 3:37:01 PM org.apache.pdfbox.rendering.PDFRenderer suggestKCMS\n",
      "INFO:   or\n",
      "Apr 17, 2020 3:37:01 PM org.apache.pdfbox.rendering.PDFRenderer suggestKCMS\n",
      "INFO:   use the option -Dsun.java2d.cmm=sun.java2d.cmm.kcms.KcmsServiceProvider\n",
      "Apr 17, 2020 3:37:01 PM org.apache.pdfbox.rendering.PDFRenderer suggestKCMS\n",
      "INFO:   or call System.setProperty(\"sun.java2d.cmm\", \"sun.java2d.cmm.kcms.KcmsServiceProvider\")\n",
      "Apr 17, 2020 3:37:02 PM org.apache.pdfbox.pdmodel.font.PDCIDFontType2 <init>\n",
      "INFO: OpenType Layout tables used in font ABCDEE+___WRD_EMBED_SUB_277 are not implemented in PDFBox and will be ignored\n",
      "Apr 17, 2020 3:37:02 PM org.apache.pdfbox.pdmodel.font.PDCIDFontType2 <init>\n",
      "INFO: OpenType Layout tables used in font Times New Roman,Bold are not implemented in PDFBox and will be ignored\n",
      "Apr 17, 2020 3:37:02 PM org.apache.pdfbox.pdmodel.font.PDCIDFontType2 <init>\n",
      "INFO: OpenType Layout tables used in font Times New Roman are not implemented in PDFBox and will be ignored\n",
      "Apr 17, 2020 3:37:03 PM org.apache.pdfbox.pdmodel.font.PDCIDFontType2 <init>\n",
      "INFO: OpenType Layout tables used in font ABCDEE+___WRD_EMBED_SUB_277 are not implemented in PDFBox and will be ignored\n",
      "Apr 17, 2020 3:37:03 PM org.apache.pdfbox.pdmodel.font.PDCIDFontType2 <init>\n",
      "INFO: OpenType Layout tables used in font Times New Roman,Bold are not implemented in PDFBox and will be ignored\n",
      "Apr 17, 2020 3:37:03 PM org.apache.pdfbox.pdmodel.font.PDCIDFontType2 <init>\n",
      "INFO: OpenType Layout tables used in font Times New Roman are not implemented in PDFBox and will be ignored\n",
      "\n",
      "Got stderr: Apr 17, 2020 3:37:05 PM org.apache.pdfbox.rendering.PDFRenderer suggestKCMS\n",
      "INFO: Your current java version is: 1.8.0_77\n",
      "Apr 17, 2020 3:37:05 PM org.apache.pdfbox.rendering.PDFRenderer suggestKCMS\n",
      "INFO: To get higher rendering speed on old java 1.8 or 9 versions,\n",
      "Apr 17, 2020 3:37:05 PM org.apache.pdfbox.rendering.PDFRenderer suggestKCMS\n",
      "INFO:   update to the latest 1.8 or 9 version (>= 1.8.0_191 or >= 9.0.4),\n",
      "Apr 17, 2020 3:37:05 PM org.apache.pdfbox.rendering.PDFRenderer suggestKCMS\n",
      "INFO:   or\n",
      "Apr 17, 2020 3:37:05 PM org.apache.pdfbox.rendering.PDFRenderer suggestKCMS\n",
      "INFO:   use the option -Dsun.java2d.cmm=sun.java2d.cmm.kcms.KcmsServiceProvider\n",
      "Apr 17, 2020 3:37:05 PM org.apache.pdfbox.rendering.PDFRenderer suggestKCMS\n",
      "INFO:   or call System.setProperty(\"sun.java2d.cmm\", \"sun.java2d.cmm.kcms.KcmsServiceProvider\")\n",
      "\n"
     ]
    },
    {
     "name": "stdout",
     "output_type": "stream",
     "text": [
      "3 extraidas dos documentos PDF.\n"
     ]
    }
   ],
   "source": [
    "tabelas = []\n",
    "\n",
    "for archivo in archivos:\n",
    "    tabela_bruta = tabula.read_pdf(archivo, pages=1)\n",
    "    \n",
    "    if tabela_bruta:\n",
    "        tabelas.append(tabela_bruta)\n",
    "\n",
    "print(f'{len(tabelas)} extraidas dos documentos PDF.')"
   ]
  },
  {
   "cell_type": "code",
   "execution_count": 8,
   "metadata": {},
   "outputs": [
    {
     "data": {
      "text/plain": [
       "[[        Unnamed: 0   Unnamed: 1   Unnamed: 2 Unnamed: 3 Unnamed: 4 Dias depois\n",
       "  0              NaN          NaN        Novos        NaN        NaN         NaN\n",
       "  1              NaN  Total Casos          NaN        NaN      Novos   do ultimo\n",
       "  2  Total Suspeitos          NaN        Casos     Óbitos        NaN         NaN\n",
       "  3              NaN  Confirmados          NaN        NaN     Óbitos        caso\n",
       "  4              NaN          NaN  Confirmados        NaN        NaN         NaN\n",
       "  5              NaN          NaN          NaN        NaN        NaN  confirmado\n",
       "  6               37            9            1          0          0           4],\n",
       " [        Unnamed: 0  Unnamed: 1   Unnamed: 2   Unnamed: 3 Unnamed: 4  \\\n",
       "  0              NaN    Total de          NaN        Novos        NaN   \n",
       "  1              NaN         NaN  Total Casos          NaN        NaN   \n",
       "  2  Total Suspeitos      testes          NaN        Casos     Óbitos   \n",
       "  3              NaN         NaN  Confirmados          NaN        NaN   \n",
       "  4              NaN  realizados          NaN  Confirmados        NaN   \n",
       "  5              NaN         NaN          NaN          NaN        NaN   \n",
       "  6               75          51           18            3          0   \n",
       "  \n",
       "    Unnamed: 5 Dias depois  \n",
       "  0        NaN         NaN  \n",
       "  1      Novos   do último  \n",
       "  2        NaN         NaN  \n",
       "  3     Óbitos        caso  \n",
       "  4        NaN         NaN  \n",
       "  5        NaN  confirmado  \n",
       "  6          0           0  ],\n",
       " [        Unnamed: 0   Unnamed: 1   Unnamed: 2 Unnamed: 3 Unnamed: 4 Dias depois\n",
       "  0              NaN          NaN        Novos        NaN        NaN         NaN\n",
       "  1              NaN  Total Casos          NaN        NaN      Novos   do último\n",
       "  2  Total Suspeitos          NaN        Casos     Óbitos        NaN         NaN\n",
       "  3              NaN  Confirmados          NaN        NaN     Óbitos        caso\n",
       "  4              NaN          NaN  Confirmados        NaN        NaN         NaN\n",
       "  5              NaN          NaN          NaN        NaN        NaN  confirmado\n",
       "  6               74           15            6          0          0           2]]"
      ]
     },
     "execution_count": 8,
     "metadata": {},
     "output_type": "execute_result"
    }
   ],
   "source": [
    "[t for t in tabelas if t]"
   ]
  },
  {
   "cell_type": "markdown",
   "metadata": {},
   "source": [
    "### Inspecta os Dados Recolectados das Imagens"
   ]
  },
  {
   "cell_type": "code",
   "execution_count": 33,
   "metadata": {},
   "outputs": [
    {
     "data": {
      "text/plain": [
       "[<PIL.PpmImagePlugin.PpmImageFile image mode=RGB size=1700x2200 at 0x1162E01D0>,\n",
       " <PIL.PpmImagePlugin.PpmImageFile image mode=RGB size=1700x2200 at 0x1162E0DA0>,\n",
       " <PIL.PpmImagePlugin.PpmImageFile image mode=RGB size=1700x2200 at 0x1162E00F0>,\n",
       " <PIL.PpmImagePlugin.PpmImageFile image mode=RGB size=1700x2200 at 0x1162E0B70>,\n",
       " <PIL.PpmImagePlugin.PpmImageFile image mode=RGB size=1700x2200 at 0x1162E0780>,\n",
       " <PIL.PpmImagePlugin.PpmImageFile image mode=RGB size=1700x2200 at 0x11620C6A0>,\n",
       " <PIL.PpmImagePlugin.PpmImageFile image mode=RGB size=1700x2200 at 0x11620C320>,\n",
       " <PIL.PpmImagePlugin.PpmImageFile image mode=RGB size=1700x2200 at 0x11620C400>,\n",
       " <PIL.PpmImagePlugin.PpmImageFile image mode=RGB size=1700x2200 at 0x11620C080>,\n",
       " <PIL.PpmImagePlugin.PpmImageFile image mode=RGB size=1700x2200 at 0x11620C0F0>,\n",
       " <PIL.PpmImagePlugin.PpmImageFile image mode=RGB size=1700x2200 at 0x11620C1D0>]"
      ]
     },
     "execution_count": 33,
     "metadata": {},
     "output_type": "execute_result"
    }
   ],
   "source": [
    "convert_from_path(archivos[0])"
   ]
  },
  {
   "cell_type": "code",
   "execution_count": 35,
   "metadata": {},
   "outputs": [],
   "source": [
    "%%time\n",
    "textos = []\n",
    "numero_de_paginas = []\n",
    "\n",
    "for archivo in archivos:\n",
    "    texto = read(archivo)\n",
    "    \n",
    "    if texto:\n",
    "        textos.append(texto)\n",
    "        numero_de_paginas.append(len(texto))"
   ]
  },
  {
   "cell_type": "code",
   "execution_count": 37,
   "metadata": {},
   "outputs": [
    {
     "data": {
      "text/plain": [
       "[11, 4, 8, 7, 9, 10, 8, 10, 4, 4, 1, 9, 7]"
      ]
     },
     "execution_count": 37,
     "metadata": {},
     "output_type": "execute_result"
    }
   ],
   "source": [
    "[len(__) for __ in textos]"
   ]
  },
  {
   "cell_type": "code",
   "execution_count": 39,
   "metadata": {},
   "outputs": [
    {
     "data": {
      "text/plain": [
       "[11, 4, 8, 7, 9, 10, 8, 10, 4, 4, 1, 9, 7]"
      ]
     },
     "execution_count": 39,
     "metadata": {},
     "output_type": "execute_result"
    }
   ],
   "source": [
    "numero_de_paginas"
   ]
  },
  {
   "cell_type": "code",
   "execution_count": 42,
   "metadata": {},
   "outputs": [
    {
     "name": "stdout",
     "output_type": "stream",
     "text": [
      "REPUBLICA DA\n",
      "Ministério da\n",
      "\n",
      "GD ees (OES - GB\n",
      "Satide Publica\n",
      "\n",
      "Centra be Operacnes de tmergencis em Sande de Guine Ben\n",
      "\n",
      " \n",
      "\n",
      " \n",
      "\n",
      "GUINE-BISSAU — BOLETIM EPIDEMIOLOGICO N°11\n",
      "COVID-19\n",
      "\n",
      " \n",
      "\n",
      "DOENCA PELO CORONAVIRUS 2019\n",
      "\n",
      "SUMARIO\n",
      "Situacgdo\n",
      "epidemioldgica no\n",
      "mundo 2\n",
      "Situacgdo\n",
      "epidemioldgica na\n",
      "Africa 2\n",
      "Situacgdo\n",
      "\n",
      "epidemioldgica na\n",
      "Guiné-Bissau 3\n",
      "\n",
      "Sistema de\n",
      "Informagao Sanitaria\n",
      "(SIS) 3\n",
      "\n",
      "COVID-19\n",
      "\n",
      "DESTAQUES\n",
      "\n",
      "Conforme os dados da Organizagao Mundial\n",
      "da Satie, a nivel mundial ja se confirmaram\n",
      "1. 610,909 casos de COVID-19 e 99.690\n",
      "Obitos (6.892 novos dbitos). Sendo que para\n",
      "a regiao africana, até o dia 10/04/2020 foram\n",
      "confirmados 9.340 casos de COVID-19 e 415\n",
      "Obitos.\n",
      "\n",
      "Recomenda-se a toda apopulagao\n",
      "ocumprimento das medidas de protegao\n",
      "disseminadas pelo Ministério da Saude e\n",
      "parceiros, além de utilizar alinha directa\n",
      "COVID-19 (1919 (MTN)/2020\n",
      "(ORANGE)/966 050 002) para informagdes\n",
      "sobre ovirus e relatar algum evento ou\n",
      "condigdes de satide. Esta linha é para fins de\n",
      "emergéncia e deve ser utilizada com\n",
      "responsabilidade, por isso apela-se a toda\n",
      "populagao que evite rumores falsos ou\n",
      "brincadeiras.\n",
      "\n",
      "12 de Abril de 2020\n"
     ]
    }
   ],
   "source": [
    "print(textos[0][0])\n"
   ]
  },
  {
   "cell_type": "code",
   "execution_count": 40,
   "metadata": {},
   "outputs": [
    {
     "data": {
      "text/plain": [
       "'../../data/pdf/2020.04.12_Boletim_Epidemiologico_Diario_COVID19_N11_2020_04_12.pdf'"
      ]
     },
     "execution_count": 40,
     "metadata": {},
     "output_type": "execute_result"
    }
   ],
   "source": [
    "archivos[0]"
   ]
  },
  {
   "cell_type": "code",
   "execution_count": 8,
   "metadata": {},
   "outputs": [
    {
     "name": "stdout",
     "output_type": "stream",
     "text": [
      "Administrative Regions and Sectors of Guinea-Bissau\n",
      "\n",
      " \n",
      "\n",
      "      \n",
      "  \n",
      "\n",
      "Bigene\n",
      "\n",
      " \n",
      "\n",
      "Sao Domingos\n",
      "\n",
      "Legend\n",
      "\n",
      " \n",
      " \n",
      " \n",
      " \n",
      " \n",
      " \n",
      " \n",
      "   \n",
      "    \n",
      "\n",
      "e Sectoral Centres\n",
      "Regions\n",
      "E Bafata\n",
      "E Biombo\n",
      "E Bissau\n",
      "E Bolama/Bijagos\n",
      "\n",
      "w o , [ Cacheu\n",
      "E Gabu\n",
      "s - Oio\n",
      "25 o 25 50 75 100 km [ Quinara\n",
      "\n",
      "[ Tombali\n"
     ]
    }
   ],
   "source": [
    "print(textos[0])"
   ]
  },
  {
   "cell_type": "code",
   "execution_count": null,
   "metadata": {},
   "outputs": [],
   "source": []
  },
  {
   "cell_type": "code",
   "execution_count": null,
   "metadata": {},
   "outputs": [],
   "source": []
  },
  {
   "cell_type": "code",
   "execution_count": null,
   "metadata": {},
   "outputs": [],
   "source": []
  }
 ],
 "metadata": {
  "kernelspec": {
   "display_name": "Python 3",
   "language": "python",
   "name": "python3"
  },
  "language_info": {
   "codemirror_mode": {
    "name": "ipython",
    "version": 3
   },
   "file_extension": ".py",
   "mimetype": "text/x-python",
   "name": "python",
   "nbconvert_exporter": "python",
   "pygments_lexer": "ipython3",
   "version": "3.6.9"
  }
 },
 "nbformat": 4,
 "nbformat_minor": 2
}
