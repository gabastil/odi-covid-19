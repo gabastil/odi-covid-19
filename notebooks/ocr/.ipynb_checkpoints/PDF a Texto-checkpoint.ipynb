{
 "cells": [
  {
   "cell_type": "markdown",
   "metadata": {},
   "source": [
    "# Extrair Textos dos Documentos PDF\n",
    "---\n",
    "Glenn Abastillas\n",
    "\n",
    "Este caderno tem o código que extrae textos dos documentos PDF."
   ]
  },
  {
   "cell_type": "code",
   "execution_count": 1,
   "metadata": {},
   "outputs": [],
   "source": [
    "from pytesseract import image_to_string\n",
    "from pdf2image import convert_from_path\n",
    "# from tabula import read_pdf\n",
    "from glob import glob\n",
    "from pathlib import Path"
   ]
  },
  {
   "cell_type": "markdown",
   "metadata": {},
   "source": [
    "### Arquivos e Archivos"
   ]
  },
  {
   "cell_type": "code",
   "execution_count": 2,
   "metadata": {},
   "outputs": [],
   "source": [
    "arquivo = '../../data/pdf'\n",
    "archivos = glob(arquivo + '/*Boletim*.pdf')"
   ]
  },
  {
   "cell_type": "markdown",
   "metadata": {},
   "source": [
    "### Funções"
   ]
  },
  {
   "cell_type": "code",
   "execution_count": 5,
   "metadata": {},
   "outputs": [],
   "source": [
    "def read(archivo):\n",
    "    ''' Carga e leia um archivo PDF '''\n",
    "    imagens = convert_from_path(archivo)\n",
    "    return [image_to_string(imagem, lang='por') for imagem in imagens if imagem]\n",
    "\n",
    "def save(texts, filename, location=Path('../../data/text')):\n",
    "    ''' \n",
    "    Passe pelo texto (lista) e concadena os partes individuais então salva-las \n",
    "    \n",
    "    Parameters\n",
    "    ----------\n",
    "        texts (list) : Array of converted PDF text to save\n",
    "        filename (str) : Name of output file\n",
    "        location (str) : Path to output folder\n",
    "    '''\n",
    "    partes = []\n",
    "    \n",
    "    for n, conteudo in enumerate(texts):\n",
    "        parte = f'\\n\\nPÁGINA NO DOCUMENTO ORIGINAL : {n}\\n\\n{conteudo}'\n",
    "        partes.append(parte)\n",
    "    \n",
    "    documento = '\\n'.join(partes)\n",
    "    \n",
    "    with open(location / filename, 'w') as escritor:\n",
    "        escritor.write(documento)\n",
    "    "
   ]
  },
  {
   "cell_type": "markdown",
   "metadata": {},
   "source": [
    "### Carga Archivos e Salvo o Texto"
   ]
  },
  {
   "cell_type": "code",
   "execution_count": 7,
   "metadata": {},
   "outputs": [
    {
     "name": "stdout",
     "output_type": "stream",
     "text": [
      "CPU times: user 4.52 s, sys: 6.48 s, total: 11 s\n",
      "Wall time: 8min 39s\n"
     ]
    }
   ],
   "source": [
    "%%time\n",
    "for archivo in archivos:\n",
    "    texto = read(archivo)\n",
    "    save(texto, Path(archivo).stem + '.txt')"
   ]
  },
  {
   "cell_type": "markdown",
   "metadata": {},
   "source": [
    "---\n",
    "# FIM"
   ]
  },
  {
   "cell_type": "markdown",
   "metadata": {},
   "source": [
    "&nbsp;"
   ]
  }
 ],
 "metadata": {
  "kernelspec": {
   "display_name": "Python 3",
   "language": "python",
   "name": "python3"
  },
  "language_info": {
   "codemirror_mode": {
    "name": "ipython",
    "version": 3
   },
   "file_extension": ".py",
   "mimetype": "text/x-python",
   "name": "python",
   "nbconvert_exporter": "python",
   "pygments_lexer": "ipython3",
   "version": "3.6.9"
  }
 },
 "nbformat": 4,
 "nbformat_minor": 2
}
