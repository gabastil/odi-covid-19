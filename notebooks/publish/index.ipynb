{
 "cells": [
  {
   "cell_type": "markdown",
   "metadata": {},
   "source": [
    "# Visualizações da Demografia de Guinea-Bissau\n",
    "---\n",
    "Glenn Abastillas | April 7, 2020\n",
    "\n",
    "A estimaçao da população de Guinea-Bissau da ONU para os anos desde 2000 até 2020. Os dados mostrados vem do SEDAC da Universidade de Columbia ([fonte](http://sedac.ciesin.columbia.edu/data/collection/gpw-v4/sets/browse)).\n",
    "\n",
    "  1. População Geral\n",
    "    - Tabela, Gráfico, e Mapa Interativo\n",
    "  2. População por Grupo de Idade\n",
    "    - Tabela e Gráfico por Grupo de Idade e Gênero\n",
    "    - Tabela, Gráfico, e Mapa Interativo "
   ]
  },
  {
   "cell_type": "markdown",
   "metadata": {},
   "source": [
    "---\n"
   ]
  }
 ],
 "metadata": {
  "kernelspec": {
   "display_name": "Python 3",
   "language": "python",
   "name": "python3"
  },
  "language_info": {
   "codemirror_mode": {
    "name": "ipython",
    "version": 3
   },
   "file_extension": ".py",
   "mimetype": "text/x-python",
   "name": "python",
   "nbconvert_exporter": "python",
   "pygments_lexer": "ipython3",
   "version": "3.7.3"
  }
 },
 "nbformat": 4,
 "nbformat_minor": 4
}
