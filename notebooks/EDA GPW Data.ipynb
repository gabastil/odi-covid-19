{
 "cells": [
  {
   "cell_type": "markdown",
   "metadata": {},
   "source": [
    "# EDA GPW Data\n",
    "---\n",
    "Glenn Abastillas | April 9, 2020"
   ]
  },
  {
   "cell_type": "code",
   "execution_count": 88,
   "metadata": {},
   "outputs": [],
   "source": [
    "import pandas as pd\n",
    "import geopandas as gpd\n",
    "from glob import glob as G\n",
    "import numpy as np"
   ]
  },
  {
   "cell_type": "markdown",
   "metadata": {},
   "source": [
    "### Load Data"
   ]
  },
  {
   "cell_type": "code",
   "execution_count": 97,
   "metadata": {},
   "outputs": [],
   "source": [
    "data = {\n",
    "    'regions' : gpd.read_file(G('../data/maps/regions/*.shp')[0])['ADM1_NAME ADM2_NAME geometry'.split()],\n",
    "    'demographics' : pd.read_csv(G('../data/datasets/demographics/*.csv')[0])\n",
    "}"
   ]
  },
  {
   "cell_type": "markdown",
   "metadata": {},
   "source": [
    "---\n",
    "### Inspect Regions Data for Completeness\n",
    "\n",
    "Check for the same number of regions and sectors and make sure regions and sectors match."
   ]
  },
  {
   "cell_type": "code",
   "execution_count": 98,
   "metadata": {},
   "outputs": [
    {
     "name": "stdout",
     "output_type": "stream",
     "text": [
      "No. Regions: 9\n",
      "No. Sectors: 39\n"
     ]
    }
   ],
   "source": [
    "admin1 = data['regions'].ADM1_NAME\n",
    "admin2 = data['regions'].ADM2_NAME\n",
    "\n",
    "number_of_regions = admin1.unique().size\n",
    "number_of_sectors = admin2.unique().size\n",
    "\n",
    "print(f'No. Regions: {number_of_regions}\\nNo. Sectors: {number_of_sectors}')"
   ]
  },
  {
   "cell_type": "code",
   "execution_count": 99,
   "metadata": {},
   "outputs": [
    {
     "name": "stdout",
     "output_type": "stream",
     "text": [
      "No. Regions: 9\n",
      "No. Sectors: 39\n"
     ]
    }
   ],
   "source": [
    "name1 = data['demographics'].NAME1\n",
    "name2 = data['demographics'].NAME2\n",
    "\n",
    "number_of_regions = name1.unique().size\n",
    "number_of_sectors = name2.unique().size\n",
    "\n",
    "print(f'No. Regions: {number_of_regions}\\nNo. Sectors: {number_of_sectors}')"
   ]
  },
  {
   "cell_type": "code",
   "execution_count": 100,
   "metadata": {},
   "outputs": [
    {
     "data": {
      "text/plain": [
       "(array([], dtype=object), array([], dtype=object))"
      ]
     },
     "execution_count": 100,
     "metadata": {},
     "output_type": "execute_result"
    }
   ],
   "source": [
    "missing_from_admin1 = admin1[~admin1.isin(name1)]\n",
    "missing_from_admin2 = admin2[~admin2.isin(name2)]\n",
    "\n",
    "missing_from_name1 = name1[~name1.isin(admin1)]\n",
    "missing_from_name2 = name2[~name2.isin(admin2)]\n",
    "\n",
    "admin_names = np.append(missing_from_admin1.values, missing_from_admin2.values)\n",
    "name_names = np.append(missing_from_name1.values, missing_from_name2.values)\n",
    "\n",
    "admin_names, name_names"
   ]
  },
  {
   "cell_type": "markdown",
   "metadata": {},
   "source": [
    "Create mapping for names"
   ]
  },
  {
   "cell_type": "code",
   "execution_count": 101,
   "metadata": {},
   "outputs": [],
   "source": [
    "name_map = [('Bissau', 'Aut. Bissau'), \n",
    "            ('Sector Autonomo de Bissau', 'Sector 1'),\n",
    "            ('Cacheu/Calequisse', 'Cacheu'),\n",
    "            ('Mansaba', 'Masaba'),\n",
    "            ('Gamamudo/Ganadu', 'Ganado'),\n",
    "            ('Galomaro/Cosse', 'Cosse')\n",
    "           ]\n",
    "\n",
    "to_admin = {b : a for a, b in name_map}\n",
    "to_demog = {a : b for a, b in name_map}"
   ]
  },
  {
   "cell_type": "markdown",
   "metadata": {},
   "source": [
    "Rename data values according to `regions`"
   ]
  },
  {
   "cell_type": "code",
   "execution_count": 102,
   "metadata": {},
   "outputs": [],
   "source": [
    "for name in 'NAME1 NAME2'.split():\n",
    "    data['demographics'][name].replace(to_demog, inplace=True)\n",
    "    \n",
    "for name in 'ADM1_NAME ADM2_NAME'.split():\n",
    "    data['regions'][name].replace(to_demog, inplace=True)"
   ]
  },
  {
   "cell_type": "markdown",
   "metadata": {},
   "source": [
    "Save updated data."
   ]
  },
  {
   "cell_type": "code",
   "execution_count": 96,
   "metadata": {},
   "outputs": [],
   "source": [
    "data['regions'].to_file(G('../data/maps/regions/*.shp')[0])"
   ]
  },
  {
   "cell_type": "markdown",
   "metadata": {},
   "source": [
    "---\n",
    "END"
   ]
  }
 ],
 "metadata": {
  "kernelspec": {
   "display_name": "Python 3",
   "language": "python",
   "name": "python3"
  },
  "language_info": {
   "codemirror_mode": {
    "name": "ipython",
    "version": 3
   },
   "file_extension": ".py",
   "mimetype": "text/x-python",
   "name": "python",
   "nbconvert_exporter": "python",
   "pygments_lexer": "ipython3",
   "version": "3.7.3"
  }
 },
 "nbformat": 4,
 "nbformat_minor": 4
}
